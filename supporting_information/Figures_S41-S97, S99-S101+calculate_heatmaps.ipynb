{
 "cells": [
  {
   "cell_type": "code",
   "execution_count": null,
   "metadata": {},
   "outputs": [],
   "source": [
    "import sys\n",
    "sys.path.insert(1, '../')\n",
    "import analyze_kinetics\n",
    "import os\n",
    "import numpy as np\n",
    "import pandas as pd\n",
    "import matplotlib.pyplot as plt"
   ]
  },
  {
   "cell_type": "markdown",
   "metadata": {},
   "source": [
    "### import data 27C"
   ]
  },
  {
   "cell_type": "code",
   "execution_count": null,
   "metadata": {
    "scrolled": true
   },
   "outputs": [],
   "source": [
    "sorption_list = {}\n",
    "\n",
    "path_dictionary = {'ROS-037':'../../data/ROS-037/27C/',\n",
    "                   'ROS-039':'../../data/ROS-039/27C/',\n",
    "                   'ROS-040':'../../data/ROS-040/27C/',\n",
    "                   'MOF-303':'../../data/MOF-303/27C/',\n",
    "                   'MIL-160':'../../data/MIL-160/27C/',\n",
    "                   'Syloid':'../../data/Syloid/27C/',\n",
    "                   'CAU-10':'../../data/CAU-10/27C/',\n",
    "                   'Al-fumarate':'../../data/Al-fumarate/27C/',\n",
    "                   }\n",
    "\n",
    "for material in path_dictionary.keys():\n",
    "    path = path_dictionary[material]\n",
    "    filelist = os.listdir(path)\n",
    "    filelist = [i for i in filelist if (i[-4:]=='.xls') or (i[-5:]=='.xlsx')]\n",
    "    sorption_list[material] = {'data':[], \n",
    "                                'fitting_result':pd.DataFrame(columns=['sample_mass','experiment',  'cycle', 'popt', 'pcov', 'R2', 'RH_target'], dtype=object),\n",
    "                                'k':pd.DataFrame(columns=['k','sigma',  ], dtype=object),\n",
    "                              }\n",
    "    \n",
    "    for filename in filelist:\n",
    "        print(filename)\n",
    "        f = analyze_kinetics.Sorption()\n",
    "        f.read_file(path, filename)\n",
    "        print(f.filename)\n",
    "        print(f.experiment_type)\n",
    "        sorption_list[material]['data'].append(f)\n",
    "        if f.experiment_type == 'isotherm':\n",
    "            iso = analyze_kinetics.Isotherm()\n",
    "            iso.extract_isotherm(f)\n",
    "            iso.interpolate_uptake_to_RH_ads()\n",
    "            iso.interpolate_uptake_to_RH_des()\n",
    "            iso.interpolate_RH_to_uptake_ads()\n",
    "            iso.interpolate_RH_to_uptake_des()\n",
    "            sorption_list[material]['isotherm'] = iso\n",
    "            plt.plot(iso.RHtarget_ads, iso.adsorption)\n",
    "            plt.plot(iso.RHtarget_des, iso.desorption)\n",
    "            plt.show()\n",
    "            plt.plot(np.linspace(min(iso.adsorption), max(iso.adsorption), 100), \n",
    "                     iso.uptake_to_RH_ads(np.linspace(min(iso.adsorption), max(iso.adsorption), 100)))\n",
    "            #plt.plot(i.RHtarget_des, i.desorption)\n",
    "            plt.show()\n",
    "        else:\n",
    "            kin = analyze_kinetics.Kinetics()\n",
    "            kin.decompose_to_cycles(f)\n",
    "            #sorption_list['ROS-037']['kinetics'] = kin\n",
    "            #sorption_list['ROS-037'].append(f)\n",
    "            plt.plot(f.data.time, f.data.uptake)\n",
    "            plt.plot(f.data.time, f.data.cycle_number)\n",
    "            plt.show()"
   ]
  },
  {
   "cell_type": "markdown",
   "metadata": {},
   "source": [
    "## Figures S41-S97"
   ]
  },
  {
   "cell_type": "code",
   "execution_count": null,
   "metadata": {
    "scrolled": true
   },
   "outputs": [],
   "source": [
    "for material in path_dictionary.keys():\n",
    "    for sorption in sorption_list[material]['data']:\n",
    "        if sorption.experiment_type == 'kinetics':\n",
    "            kin = analyze_kinetics.Kinetics()\n",
    "            iso = sorption_list[material]['isotherm']\n",
    "            kin.fit_model2(sorption, 2, 90, iso, material, plot=True, verbose = True, scale_isotherm = True)\n",
    "            sorption_list[material]['fitting_result'] = sorption_list[material]['fitting_result'].append(kin.result)\n",
    "            print(kin.result)\n",
    "            \n"
   ]
  },
  {
   "cell_type": "markdown",
   "metadata": {},
   "source": [
    "## Figures S99-S100"
   ]
  },
  {
   "cell_type": "code",
   "execution_count": null,
   "metadata": {
    "scrolled": true
   },
   "outputs": [],
   "source": [
    "title_dictionary = {0: 'Desorption', 30:'Adsorption 30 %RH', 60:'Adsorption 60 %RH',}\n",
    "def fit_mass(result, i, plot = True, sigma = True)   :     \n",
    "    from scipy.optimize import curve_fit\n",
    "    from sklearn.metrics import r2_score\n",
    "    from scipy.stats.distributions import t\n",
    "    def line_zero(x, slope):\n",
    "        return slope*x \n",
    "\n",
    "    print(result)\n",
    "    x = 1/result.sample_mass\n",
    "    y = result.popt\n",
    "    if sigma:\n",
    "        sigma_values = result.pcov**0.5\n",
    "        popt, pcov = curve_fit(line_zero, x, y, [ 1], sigma = sigma_values,#maxfev=15000,\n",
    "                          )\n",
    "    else:\n",
    "        popt, pcov = curve_fit(line_zero, x, y, [ 1], #maxfev=15000,\n",
    "                          )\n",
    "    print(popt, pcov[0, 0]**0.5)\n",
    "\n",
    "    alpha = 0.05 \n",
    "    n = len(list(set(result.experiment.values)))\n",
    "    p = 1\n",
    "    dof = max(0, n - p) \n",
    "    tval = t.ppf(1.0 - alpha / 2.0, dof) \n",
    "    print(tval*pcov[0, 0]**0.5)\n",
    "    \n",
    "    if plot:\n",
    "        arrax[i].plot(x, y, 'o', label = 'k')\n",
    "        arrax[i].plot(np.linspace(0, max(x), 100), line_zero(np.linspace(0, max(x), 100), *popt), '-', label='best fit')\n",
    "        #arrax[i].plot(np.linspace(0, max(x), 100), line_zero(np.linspace(0, max(x), 100), popt[0]+pcov[0, 0]**0.5), 'g--', label='standard deviation')\n",
    "        #arrax[i].plot(np.linspace(0, max(x), 100), line_zero(np.linspace(0, max(x), 100), popt[0]-pcov[0, 0]**0.5), 'g--', )\n",
    "        arrax[i].legend()\n",
    "        arrax[i].set_title(title_dictionary[RH_target])\n",
    "        arrax[i].set_ylabel('k, wt.%/min/%RH')\n",
    "        arrax[i].set_xlabel('1/mass, 1/mg')\n",
    "        \n",
    "    return pd.DataFrame({'k':popt[0], \n",
    "                         'k_sigma':pcov[0, 0]**0.5, \n",
    "                         'k_CI':tval*pcov[0, 0]**0.5,\n",
    "                         'RH_target':RH_target, \n",
    "                         'R2_threshold':R2_threshold, \n",
    "                         'sigma':sigma,\n",
    "                         },  index=[0], dtype=object)\n",
    "\n",
    "R2_threshold = 0.9\n",
    "for material in path_dictionary.keys():       \n",
    "    sorption_list[material]['k'] = pd.DataFrame(columns=['k','sigma',  ], dtype=object)\n",
    "    fig, arrax = plt.subplots(1, 3, figsize = (10, 3))\n",
    "    for i, RH_target in enumerate([ 0, 30, 60]):\n",
    "        result = sorption_list[material]['fitting_result']\n",
    "        result = result[(result.RH_target==RH_target)&(result.R2>R2_threshold)]\n",
    "        sorption_list[material]['k'] = sorption_list[material]['k'].append(fit_mass(result, i,\n",
    "                                                                                                     plot = True, \n",
    "                                                                                                     sigma = False),\n",
    "                                                                           ignore_index=True)\n",
    "    suptitle = plt.suptitle(material,y=1.02 )\n",
    "    plt.tight_layout()\n",
    "    plt.savefig('K_fitting{0}.png'.format(material, \n",
    "                                     ), bbox_extra_artists=(suptitle,), bbox_inches=\"tight\")\n",
    "    plt.show()\n"
   ]
  },
  {
   "cell_type": "code",
   "execution_count": null,
   "metadata": {},
   "outputs": [],
   "source": [
    "for material in list(path_dictionary.keys()):\n",
    "    print(sorption_list[material]['fitting_result'])"
   ]
  },
  {
   "cell_type": "code",
   "execution_count": null,
   "metadata": {
    "scrolled": false
   },
   "outputs": [],
   "source": [
    "import json\n",
    "\n",
    "with open('sorption_fitting_results_27C.json', 'w') as outfile:\n",
    "    json.dump({material:[sorption_list[material]['fitting_result'].to_dict(),sorption_list[material]['k'].to_dict()]  for material in list(sorption_list.keys())}, outfile)"
   ]
  },
  {
   "cell_type": "markdown",
   "metadata": {},
   "source": [
    "## Figure S101"
   ]
  },
  {
   "cell_type": "code",
   "execution_count": null,
   "metadata": {},
   "outputs": [],
   "source": [
    "import json\n",
    "\n",
    "with open('sorption_fitting_results_27C.json', 'r') as infile:\n",
    "    data = json.load(infile)\n",
    "    print(data)"
   ]
  },
  {
   "cell_type": "code",
   "execution_count": null,
   "metadata": {},
   "outputs": [],
   "source": [
    "title_dictionary = {'0': 'Desorption', '1':'Adsorption 30 %RH', '2':'Adsorption 60 %RH',}\n",
    "material_list = [ 'ROS-037', 'ROS-039', 'ROS-040', 'MOF-303', 'MIL-160', 'Syloid', 'CAU-10', 'Al-fumarate']\n",
    "for RH_target in [ '0', '1',  '2']:\n",
    "    plt.bar(material_list, \n",
    "        [data[material][1]['k'][RH_target] for material in material_list], \n",
    "        yerr=[data[material][1]['k_sigma'][RH_target] for material in material_list], \n",
    "        align='center', alpha=0.5, ecolor='black', capsize=10)\n",
    "    plt.title(title_dictionary[RH_target])\n",
    "    plt.ylabel('k\\', (wt.%·mg)/(min·%RH)')\n",
    "    plt.xticks(rotation=90)\n",
    "    plt.show()"
   ]
  },
  {
   "cell_type": "markdown",
   "metadata": {},
   "source": [
    "## Calculate heatmaps"
   ]
  },
  {
   "cell_type": "code",
   "execution_count": null,
   "metadata": {},
   "outputs": [],
   "source": [
    "def working_capacity_predict( t1, t2, Kads, Kdes, RH_target, Isotherm, verbose=False, plot=False):\n",
    "    t0 = 0\n",
    "    w0 = Isotherm.RH_to_uptake_ads(RH_target)\n",
    "    tolerance = 0.001\n",
    "    work_capacity_all = []\n",
    "    def curve( w0,  t1, K, t_range, RH):\n",
    "        uptake_out = []\n",
    "        B = w0\n",
    "        t0 = t_range[0]\n",
    "        for i, t in enumerate(t_range):\n",
    "            B = B + (t-t0)* K* (RH - Isotherm.uptake_to_RH_ads(B))   \n",
    "            uptake_out.append(B)\n",
    "            t0=t\n",
    "        return uptake_out\n",
    "\n",
    "    w_last = w0\n",
    "    workcapacity_ads_last = 0\n",
    "    uptake_des_last = 0\n",
    "    equilibrium_cycle = 0\n",
    "    for i in range(1000):\n",
    "        t_range = np.linspace(0+i*(t1+t2), t1+i*(t1+t2), num=100)\n",
    "        w_range = curve( w_last,  t1, Kads, t_range, RH_target)\n",
    "        w_last = w_range[-1]\n",
    "        work_capacity = w_last\n",
    "        #plt.scatter(t_range[-1],w_last)\n",
    "        if plot: plt.plot(t_range, w_range, c='C0')\n",
    "\n",
    "        t_range = np.linspace(t1+i*(t1+t2), (t1+t2)+i*(t1+t2), num=100)\n",
    "        w_range = curve(w_last,  t2, Kdes, t_range, 0)\n",
    "        w_last = w_range[-1]\n",
    "        work_capacity = work_capacity - w_last\n",
    "        #plt.scatter(t_range[-1],w_last)\n",
    "        if plot: plt.plot(t_range, w_range, c='C0')\n",
    "\n",
    "        work_capacity_all.append(work_capacity)\n",
    "        if (abs(uptake_des_last - w_range[-1]) <tolerance)&(abs(workcapacity_ads_last-work_capacity) < tolerance):\n",
    "            equilibrium_cycle = i\n",
    "            break\n",
    "        #print(work_capacity, work_capacity/(t1+t2))\n",
    "        uptake_des_last = w_range[-1]\n",
    "        workcapacity_ads_last = work_capacity\n",
    "        ## plot (unnest x and y)\n",
    "\n",
    "    if plot:print(work_capacity_all[-1]/(t1+t2))\n",
    "    if plot:plt.ylabel('Uptake (wt.%)')\n",
    "    if plot:plt.xlabel('Time (min)')\n",
    "    #if plot:plt.text(0,11,'t_ads={3:.2f} min, t_des={4:.2f} min,\\na={0:.2f}%, k_ads={1}, k_des={2},\\nN_cycles={5}, time to eq ={7:.1f}min, tolerance={6}wt.%'.format(C0,k1,k2,t1,t2, equilibrium_cycle, tolerance, equilibrium_cycle*(t1+t2)), horizontalalignment='left', fontsize=12)\n",
    "    if plot:plt.show()\n",
    "    return work_capacity_all[-1]/(t1+t2), equilibrium_cycle, equilibrium_cycle*(t1+t2)\n"
   ]
  },
  {
   "cell_type": "code",
   "execution_count": null,
   "metadata": {
    "scrolled": true
   },
   "outputs": [],
   "source": [
    "for material in path_dictionary.keys():       \n",
    "    for RH_target in [ 30]:\n",
    "        number_of_steps = 100\n",
    "        t_ads_range = np.linspace(1, 100, num=number_of_steps)\n",
    "        t_des_range = np.linspace(1, 100, num=number_of_steps)\n",
    "\n",
    "        zero_mass = 10\n",
    "        Kads = sorption_list[material]['k'][(sorption_list[material]['k'].RH_target == RH_target)].k.values[0]/zero_mass\n",
    "        Kdes = sorption_list[material]['k'][(sorption_list[material]['k'].RH_target == 0)].k.values[0]/zero_mass\n",
    "\n",
    "        working_capacity_per_time_array = np.zeros([number_of_steps, number_of_steps])\n",
    "        equilibrium_cycle_array = np.zeros([number_of_steps, number_of_steps])\n",
    "        time_to_equilibrium_array = np.zeros([number_of_steps, number_of_steps])\n",
    "\n",
    "        for i, t1 in enumerate(t_ads_range):\n",
    "            print(t1)\n",
    "            for j, t2 in enumerate(t_des_range):\n",
    "                working_capacity_per_time_array[i,j], equilibrium_cycle_array[i,j], time_to_equilibrium_array[i,j] = \\\n",
    "                working_capacity_predict(t1, t2, \n",
    "                                          Kads, Kdes,RH_target,\n",
    "                                          sorption_list[material]['isotherm'], plot = False)\n",
    "\n",
    "        print('Max working capacity per min: ', working_capacity_per_time_array.max())\n",
    "\n",
    "        ind_max = np.unravel_index(np.argmax(working_capacity_per_time_array, axis=None), working_capacity_per_time_array.shape)\n",
    "        fig,ax=plt.subplots(1,1)\n",
    "        cp = ax.contourf(t_des_range, t_ads_range, working_capacity_per_time_array, cmap='hsv', alpha=0.4)\n",
    "        #cp = ax.contourf(t_des_range, t_ads_range, working_capacity_per_time_array,  vmin=0)\n",
    "        fig.colorbar(cp) # Add a colorbar to a plot\n",
    "        ax.set_title('Working capacity per time (wt.%/min)')\n",
    "        ax.set_xlabel('t desorption (min)')\n",
    "        ax.set_ylabel('t adsorption (min)')\n",
    "        plt.scatter(t_des_range[ind_max[1]],t_ads_range[ind_max[0]], s=100, marker='+', c='r')\n",
    "        #plt.plot(t_des_range, t_des_range*k2/k1, label = 'k des/k ads')\n",
    "        #plt.legend() \n",
    "        plt.show()\n",
    "\n",
    "        np.savetxt('Heatmap_{0}_ads{1}-{2}_des{3}-{4}_n{6}_{5}RH.csv'.format(material, \n",
    "                                                                        min(t_ads_range),\n",
    "                                                                        max(t_ads_range),\n",
    "                                                                        min(t_des_range),\n",
    "                                                                        max(t_des_range),\n",
    "                                                                        RH_target,\n",
    "                                                                        number_of_steps\n",
    "                                                                        ), working_capacity_per_time_array, delimiter=',')\n",
    "\n",
    "        print('Optimal cycle:')\n",
    "        print('adsorption: {:.1f} min'.format(t_ads_range[ind_max[0]]))\n",
    "        print('desorption: {:.1f} min'.format(t_des_range[ind_max[1]]))\n",
    "        working_capacity_predict(t_ads_range[ind_max[0]], t_des_range[ind_max[1]], \n",
    "                                 Kads, Kdes,RH_target,\n",
    "                                sorption_list[material]['isotherm'], plot = True)\n",
    "        working_capacity_predict(15,15, \n",
    "                                 Kads, Kdes,RH_target,\n",
    "                                sorption_list[material]['isotherm'], plot = True)"
   ]
  },
  {
   "cell_type": "code",
   "execution_count": null,
   "metadata": {},
   "outputs": [],
   "source": []
  }
 ],
 "metadata": {
  "kernelspec": {
   "display_name": "Python 3 (ipykernel)",
   "language": "python",
   "name": "python3"
  },
  "language_info": {
   "codemirror_mode": {
    "name": "ipython",
    "version": 3
   },
   "file_extension": ".py",
   "mimetype": "text/x-python",
   "name": "python",
   "nbconvert_exporter": "python",
   "pygments_lexer": "ipython3",
   "version": "3.7.3"
  }
 },
 "nbformat": 4,
 "nbformat_minor": 2
}
